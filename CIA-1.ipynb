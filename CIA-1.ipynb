{
 "cells": [
  {
   "cell_type": "code",
   "execution_count": null,
   "id": "ce38d1ae",
   "metadata": {},
   "outputs": [],
   "source": [
    "# -*- coding: utf-8 -*-\n",
    "\"\"\"\n",
    "Spyder Editor\n",
    "\n",
    "This is a temporary script file.\n",
    "\"\"\"\n",
    "\n",
    "import random\n",
    "\n",
    "match = 5\n",
    "mismatch = -4\n",
    "char_set = \"ACGT\"\n",
    "char_count_1 = [0, 0, 0, 0]\n",
    "char_count_2 = [0, 0, 0, 0]\n",
    "\n",
    "s1 = \"\"\n",
    "s2 = \"\"\n",
    "\n",
    "while len(s1) < 16:\n",
    "s = random.choice(char_set)\n",
    "if (s1.count(s) == 4):\n",
    "continue\n",
    "else:\n",
    "s1 += s\n",
    "\n",
    "\n",
    "while len(s2) < 16:\n",
    "s = random.choice(char_set)\n",
    "if (s2.count(s) == 4):\n",
    "continue\n",
    "else:\n",
    "s2 += s\n",
    "\n",
    "\n",
    "alignment = [[0 for i in range(len(s1))] for j in range(len(s2))]\n",
    "\n",
    "def score(alignment, s1, s2, row):\n",
    "if (row == len(s1)):\n",
    "return alignment\n",
    "\n",
    "for j in range(1, len(s2)+1):\n",
    "if s1[row-1] == s2[j-1]:\n",
    "alignment[row][j] = alignment[row-1][j-1] + match\n",
    "else:\n",
    "num = max(alignment[row-1][j], alignment[row-1][j-1], alignment[row][j-1])\n",
    "num += mismatch\n",
    "if (num < 0):\n",
    "num = 0\n",
    "alignment[row][j] = num\n",
    "\n",
    "score(alignment, s1, s2, row+1)\n",
    "\n",
    "\n",
    "alignment = score(alignment, s1, s2, 1)\n",
    "print(alignment)"
   ]
  }
 ],
 "metadata": {
  "kernelspec": {
   "display_name": "Python 3 (ipykernel)",
   "language": "python",
   "name": "python3"
  },
  "language_info": {
   "codemirror_mode": {
    "name": "ipython",
    "version": 3
   },
   "file_extension": ".py",
   "mimetype": "text/x-python",
   "name": "python",
   "nbconvert_exporter": "python",
   "pygments_lexer": "ipython3",
   "version": "3.8.5"
  }
 },
 "nbformat": 4,
 "nbformat_minor": 5
}
